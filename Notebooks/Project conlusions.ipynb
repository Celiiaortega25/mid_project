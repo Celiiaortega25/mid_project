{
 "cells": [
  {
   "cell_type": "code",
   "execution_count": 2,
   "id": "ee92ca18",
   "metadata": {},
   "outputs": [],
   "source": [
    "import pandas as pd\n",
    "import numpy as np \n",
    "import matplotlib.pyplot as plt"
   ]
  },
  {
   "cell_type": "markdown",
   "id": "15f47807",
   "metadata": {},
   "source": [
    "# Which is the best rated country by nomad people that have been living in those countries?"
   ]
  },
  {
   "cell_type": "code",
   "execution_count": 3,
   "id": "ea7da563",
   "metadata": {},
   "outputs": [],
   "source": [
    "nomad = pd.read_excel('../Data/cleaned/RB_Fatal_Accident_Database_100725.xlsx')"
   ]
  },
  {
   "cell_type": "code",
   "execution_count": 4,
   "id": "390e81a8",
   "metadata": {
    "scrolled": true
   },
   "outputs": [
    {
     "data": {
      "text/html": [
       "<div>\n",
       "<style scoped>\n",
       "    .dataframe tbody tr th:only-of-type {\n",
       "        vertical-align: middle;\n",
       "    }\n",
       "\n",
       "    .dataframe tbody tr th {\n",
       "        vertical-align: top;\n",
       "    }\n",
       "\n",
       "    .dataframe thead th {\n",
       "        text-align: right;\n",
       "    }\n",
       "</style>\n",
       "<table border=\"1\" class=\"dataframe\">\n",
       "  <thead>\n",
       "    <tr style=\"text-align: right;\">\n",
       "      <th></th>\n",
       "      <th>country</th>\n",
       "      <th>cause_of_death</th>\n",
       "      <th>number_of_deaths</th>\n",
       "      <th>city</th>\n",
       "      <th>coffee_in_cafe</th>\n",
       "      <th>cost_beer</th>\n",
       "      <th>cost_coworking</th>\n",
       "      <th>cost_nomad</th>\n",
       "      <th>female_friendly</th>\n",
       "      <th>fragile_states_index</th>\n",
       "      <th>...</th>\n",
       "      <th>freedom_score</th>\n",
       "      <th>friendly_to_foreigners</th>\n",
       "      <th>internet_speed</th>\n",
       "      <th>life_score</th>\n",
       "      <th>nightlife</th>\n",
       "      <th>nomad_score</th>\n",
       "      <th>places_to_work</th>\n",
       "      <th>racism</th>\n",
       "      <th>safety</th>\n",
       "      <th>marine_species</th>\n",
       "    </tr>\n",
       "  </thead>\n",
       "  <tbody>\n",
       "    <tr>\n",
       "      <th>0</th>\n",
       "      <td>Australia</td>\n",
       "      <td>equipment problems, human error</td>\n",
       "      <td>13</td>\n",
       "      <td>Portland</td>\n",
       "      <td>5.00</td>\n",
       "      <td>5.00</td>\n",
       "      <td>300.00</td>\n",
       "      <td>3503</td>\n",
       "      <td>0.8</td>\n",
       "      <td>34.0</td>\n",
       "      <td>...</td>\n",
       "      <td>0.6</td>\n",
       "      <td>1.0</td>\n",
       "      <td>23</td>\n",
       "      <td>0.95</td>\n",
       "      <td>1.0</td>\n",
       "      <td>0.90</td>\n",
       "      <td>1.0</td>\n",
       "      <td>0.8</td>\n",
       "      <td>0.8</td>\n",
       "      <td>7</td>\n",
       "    </tr>\n",
       "    <tr>\n",
       "      <th>1</th>\n",
       "      <td>Australia</td>\n",
       "      <td>equipment problems, human error</td>\n",
       "      <td>13</td>\n",
       "      <td>Perth</td>\n",
       "      <td>3.02</td>\n",
       "      <td>3.02</td>\n",
       "      <td>332.05</td>\n",
       "      <td>1938</td>\n",
       "      <td>1.0</td>\n",
       "      <td>22.5</td>\n",
       "      <td>...</td>\n",
       "      <td>0.8</td>\n",
       "      <td>1.0</td>\n",
       "      <td>5</td>\n",
       "      <td>0.88</td>\n",
       "      <td>0.6</td>\n",
       "      <td>0.83</td>\n",
       "      <td>0.8</td>\n",
       "      <td>0.8</td>\n",
       "      <td>1.0</td>\n",
       "      <td>7</td>\n",
       "    </tr>\n",
       "    <tr>\n",
       "      <th>2</th>\n",
       "      <td>Australia</td>\n",
       "      <td>equipment problems, human error</td>\n",
       "      <td>13</td>\n",
       "      <td>Richmond</td>\n",
       "      <td>5.00</td>\n",
       "      <td>5.00</td>\n",
       "      <td>250.00</td>\n",
       "      <td>2824</td>\n",
       "      <td>0.8</td>\n",
       "      <td>34.0</td>\n",
       "      <td>...</td>\n",
       "      <td>0.6</td>\n",
       "      <td>0.6</td>\n",
       "      <td>24</td>\n",
       "      <td>0.84</td>\n",
       "      <td>0.8</td>\n",
       "      <td>0.81</td>\n",
       "      <td>0.8</td>\n",
       "      <td>0.8</td>\n",
       "      <td>0.6</td>\n",
       "      <td>7</td>\n",
       "    </tr>\n",
       "    <tr>\n",
       "      <th>3</th>\n",
       "      <td>Australia</td>\n",
       "      <td>equipment problems, human error</td>\n",
       "      <td>13</td>\n",
       "      <td>Richmond</td>\n",
       "      <td>5.00</td>\n",
       "      <td>5.00</td>\n",
       "      <td>250.00</td>\n",
       "      <td>2824</td>\n",
       "      <td>0.8</td>\n",
       "      <td>34.0</td>\n",
       "      <td>...</td>\n",
       "      <td>0.6</td>\n",
       "      <td>0.6</td>\n",
       "      <td>24</td>\n",
       "      <td>0.84</td>\n",
       "      <td>0.8</td>\n",
       "      <td>0.81</td>\n",
       "      <td>0.8</td>\n",
       "      <td>0.8</td>\n",
       "      <td>0.6</td>\n",
       "      <td>7</td>\n",
       "    </tr>\n",
       "    <tr>\n",
       "      <th>4</th>\n",
       "      <td>Australia</td>\n",
       "      <td>equipment problems, human error</td>\n",
       "      <td>13</td>\n",
       "      <td>Wollongong</td>\n",
       "      <td>5.66</td>\n",
       "      <td>5.66</td>\n",
       "      <td>226.40</td>\n",
       "      <td>2561</td>\n",
       "      <td>1.0</td>\n",
       "      <td>22.5</td>\n",
       "      <td>...</td>\n",
       "      <td>0.8</td>\n",
       "      <td>1.0</td>\n",
       "      <td>50</td>\n",
       "      <td>0.87</td>\n",
       "      <td>0.6</td>\n",
       "      <td>0.80</td>\n",
       "      <td>0.8</td>\n",
       "      <td>0.8</td>\n",
       "      <td>0.8</td>\n",
       "      <td>7</td>\n",
       "    </tr>\n",
       "  </tbody>\n",
       "</table>\n",
       "<p>5 rows × 21 columns</p>\n",
       "</div>"
      ],
      "text/plain": [
       "     country                   cause_of_death  number_of_deaths        city   \n",
       "0  Australia  equipment problems, human error                13    Portland  \\\n",
       "1  Australia  equipment problems, human error                13       Perth   \n",
       "2  Australia  equipment problems, human error                13    Richmond   \n",
       "3  Australia  equipment problems, human error                13    Richmond   \n",
       "4  Australia  equipment problems, human error                13  Wollongong   \n",
       "\n",
       "   coffee_in_cafe  cost_beer  cost_coworking  cost_nomad  female_friendly   \n",
       "0            5.00       5.00          300.00        3503              0.8  \\\n",
       "1            3.02       3.02          332.05        1938              1.0   \n",
       "2            5.00       5.00          250.00        2824              0.8   \n",
       "3            5.00       5.00          250.00        2824              0.8   \n",
       "4            5.66       5.66          226.40        2561              1.0   \n",
       "\n",
       "   fragile_states_index  ...  freedom_score  friendly_to_foreigners   \n",
       "0                  34.0  ...            0.6                     1.0  \\\n",
       "1                  22.5  ...            0.8                     1.0   \n",
       "2                  34.0  ...            0.6                     0.6   \n",
       "3                  34.0  ...            0.6                     0.6   \n",
       "4                  22.5  ...            0.8                     1.0   \n",
       "\n",
       "   internet_speed  life_score  nightlife  nomad_score  places_to_work  racism   \n",
       "0              23        0.95        1.0         0.90             1.0     0.8  \\\n",
       "1               5        0.88        0.6         0.83             0.8     0.8   \n",
       "2              24        0.84        0.8         0.81             0.8     0.8   \n",
       "3              24        0.84        0.8         0.81             0.8     0.8   \n",
       "4              50        0.87        0.6         0.80             0.8     0.8   \n",
       "\n",
       "   safety  marine_species  \n",
       "0     0.8               7  \n",
       "1     1.0               7  \n",
       "2     0.6               7  \n",
       "3     0.6               7  \n",
       "4     0.8               7  \n",
       "\n",
       "[5 rows x 21 columns]"
      ]
     },
     "execution_count": 4,
     "metadata": {},
     "output_type": "execute_result"
    }
   ],
   "source": [
    "nomad.head()"
   ]
  },
  {
   "cell_type": "code",
   "execution_count": 5,
   "id": "24015c54",
   "metadata": {},
   "outputs": [
    {
     "name": "stdout",
     "output_type": "stream",
     "text": [
      "           country  nomad_score\n",
      "11        Thailand     0.818333\n",
      "9        Singapore     0.780000\n",
      "4           France     0.746667\n",
      "0        Australia     0.739444\n",
      "7      Philippines     0.684571\n",
      "3          Croatia     0.676667\n",
      "6           Mexico     0.649444\n",
      "5        Indonesia     0.626667\n",
      "8           Russia     0.602353\n",
      "2            China     0.530435\n",
      "10    South Africa     0.508000\n",
      "1   Cayman Islands     0.460000\n"
     ]
    }
   ],
   "source": [
    "grp = nomad.groupby('country').agg({'nomad_score':'mean'}).reset_index().sort_values(by='nomad_score', ascending=False)\n",
    "print(grp)"
   ]
  },
  {
   "cell_type": "code",
   "execution_count": 6,
   "id": "e580513c",
   "metadata": {},
   "outputs": [
    {
     "data": {
      "image/png": "[encoded data removed]",
      "text/plain": [
       "<Figure size 640x480 with 1 Axes>"
      ]
     },
     "metadata": {},
     "output_type": "display_data"
    }
   ],
   "source": [
    "sorted_nomad = nomad.sort_values(by='nomad_score', ascending=False)\n",
    "\n",
    "fig, ax = plt.subplots()\n",
    "ax.bar(sorted_nomad['country'], sorted_nomad['nomad_score'])\n",
    "plt.xticks(rotation=90)\n",
    "ax.set_xlabel(\"Country\")\n",
    "ax.set_ylabel(\"Score\")\n",
    "plt.tight_layout()\n",
    "plt.show()"
   ]
  },
  {
   "cell_type": "markdown",
   "id": "ab38249f",
   "metadata": {},
   "source": [
    "Best country rated by nomad people is Thailand being the worst one, Cayman Islands"
   ]
  },
  {
   "cell_type": "markdown",
   "id": "f429ae70",
   "metadata": {},
   "source": [
    "# Best places for diving (more marine species)"
   ]
  },
  {
   "cell_type": "code",
   "execution_count": 7,
   "id": "29dcd776",
   "metadata": {},
   "outputs": [
    {
     "name": "stdout",
     "output_type": "stream",
     "text": [
      "           country  marine_species\n",
      "7      Philippines            3080\n",
      "6           Mexico            2268\n",
      "4           France            2016\n",
      "0        Australia            1638\n",
      "2            China             690\n",
      "11        Thailand             294\n",
      "5        Indonesia             264\n",
      "10    South Africa              80\n",
      "8           Russia              34\n",
      "3          Croatia              18\n",
      "9        Singapore               5\n",
      "1   Cayman Islands               3\n"
     ]
    }
   ],
   "source": [
    "species = nomad.groupby('country').agg({'marine_species':'sum'}).reset_index().sort_values(by='marine_species', ascending=False)\n",
    "print(species)"
   ]
  },
  {
   "cell_type": "code",
   "execution_count": 9,
   "id": "6d955174",
   "metadata": {},
   "outputs": [
    {
     "data": {
      "image/png": "[encoded data removed]",
      "text/plain": [
       "<Figure size 640x480 with 1 Axes>"
      ]
     },
     "metadata": {},
     "output_type": "display_data"
    }
   ],
   "source": [
    "plt.bar(species['country'], species['marine_species'], color = 'purple')\n",
    "plt.xticks(rotation=90)\n",
    "plt.xlabel('Country')\n",
    "plt.ylabel('Marine species')\n",
    "plt.title('Marine species by country')\n",
    "plt.show()"
   ]
  },
  {
   "cell_type": "code",
   "execution_count": null,
   "id": "090485f5",
   "metadata": {},
   "outputs": [],
   "source": [
    "fig, ax = plt.subplots()\n",
    "ax.bar(sorted_marine_species['country'], sorted_marine_species['marine_species'], color = 'purple')\n",
    "plt.xticks(rotation=90)\n",
    "ax.set_xlabel(\"Country\")\n",
    "ax.set_ylabel(\"Count Species\")\n",
    "plt.tight_layout()\n",
    "plt.show()"
   ]
  },
  {
   "cell_type": "markdown",
   "id": "f9ec7c53",
   "metadata": {},
   "source": [
    "What city is the most dangerous for practicing scuva diving?"
   ]
  },
  {
   "cell_type": "code",
   "execution_count": null,
   "id": "9e3c7d22",
   "metadata": {},
   "outputs": [],
   "source": [
    "sorted_accidents = nomad.sort_values(by='number_of_deaths', ascending=False)"
   ]
  },
  {
   "cell_type": "code",
   "execution_count": null,
   "id": "8834b65f",
   "metadata": {},
   "outputs": [],
   "source": [
    "fig, ax = plt.subplots()\n",
    "ax.bar(sorted_accidents['country'], sorted_accidents['number_of_deaths'], color =  'grey')\n",
    "plt.xticks(rotation=90)\n",
    "ax.set_xlabel(\"Country\")\n",
    "ax.set_ylabel(\"Count of Deaths\")\n",
    "plt.tight_layout()\n",
    "plt.show()"
   ]
  },
  {
   "cell_type": "code",
   "execution_count": null,
   "id": "121edbf1",
   "metadata": {},
   "outputs": [],
   "source": [
    "sorted_accidents = nomad.sort_values(by='cause_of_death', ascending=False)"
   ]
  },
  {
   "cell_type": "code",
   "execution_count": null,
   "id": "be47e70b",
   "metadata": {},
   "outputs": [],
   "source": [
    "fig, ax = plt.subplots()\n",
    "ax.bar(sorted_accidents['country'], sorted_accidents['cause_of_death'], color = 'black')\n",
    "plt.xticks(rotation=90)\n",
    "ax.set_xlabel(\"Country\")\n",
    "ax.set_ylabel(\"Causes\")\n",
    "plt.show()"
   ]
  }
 ],
 "metadata": {
  "kernelspec": {
   "display_name": "mid-project",
   "language": "python",
   "name": "mid-project"
  },
  "language_info": {
   "codemirror_mode": {
    "name": "ipython",
    "version": 3
   },
   "file_extension": ".py",
   "mimetype": "text/x-python",
   "name": "python",
   "nbconvert_exporter": "python",
   "pygments_lexer": "ipython3",
   "version": "3.10.11"
  }
 },
 "nbformat": 4,
 "nbformat_minor": 5
}
